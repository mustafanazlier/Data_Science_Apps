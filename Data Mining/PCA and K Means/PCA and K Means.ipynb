{
 "cells": [
  {
   "cell_type": "markdown",
   "metadata": {},
   "source": [
    "### Mustafa Nazlıer - 15050111035 - Data Mining Course - Homework 4 "
   ]
  },
  {
   "cell_type": "code",
   "execution_count": 1,
   "metadata": {},
   "outputs": [],
   "source": [
    "\n",
    "import pandas as pd   #importing pandas\n",
    "import matplotlib.pyplot as plt #importing the necessary plotting library for the graphs\n",
    "                          \n",
    "    #Pca is a tool used for data visualization or data pre-processing \n",
    "    #Kmeans is a clustering algorithm for discovering unknown subgroups in data\n"
   ]
  },
  {
   "cell_type": "code",
   "execution_count": 2,
   "metadata": {},
   "outputs": [
    {
     "data": {
      "text/html": [
       "<div>\n",
       "<style scoped>\n",
       "    .dataframe tbody tr th:only-of-type {\n",
       "        vertical-align: middle;\n",
       "    }\n",
       "\n",
       "    .dataframe tbody tr th {\n",
       "        vertical-align: top;\n",
       "    }\n",
       "\n",
       "    .dataframe thead th {\n",
       "        text-align: right;\n",
       "    }\n",
       "</style>\n",
       "<table border=\"1\" class=\"dataframe\">\n",
       "  <thead>\n",
       "    <tr style=\"text-align: right;\">\n",
       "      <th></th>\n",
       "      <th>Channel</th>\n",
       "      <th>Region</th>\n",
       "      <th>Fresh</th>\n",
       "      <th>Milk</th>\n",
       "      <th>Grocery</th>\n",
       "      <th>Frozen</th>\n",
       "      <th>Detergents</th>\n",
       "      <th>Delicassen</th>\n",
       "    </tr>\n",
       "  </thead>\n",
       "  <tbody>\n",
       "    <tr>\n",
       "      <th>0</th>\n",
       "      <td>2</td>\n",
       "      <td>3</td>\n",
       "      <td>12669</td>\n",
       "      <td>9656</td>\n",
       "      <td>7561</td>\n",
       "      <td>214</td>\n",
       "      <td>2674</td>\n",
       "      <td>1338</td>\n",
       "    </tr>\n",
       "    <tr>\n",
       "      <th>1</th>\n",
       "      <td>2</td>\n",
       "      <td>3</td>\n",
       "      <td>7057</td>\n",
       "      <td>9810</td>\n",
       "      <td>9568</td>\n",
       "      <td>1762</td>\n",
       "      <td>3293</td>\n",
       "      <td>1776</td>\n",
       "    </tr>\n",
       "    <tr>\n",
       "      <th>2</th>\n",
       "      <td>2</td>\n",
       "      <td>3</td>\n",
       "      <td>6353</td>\n",
       "      <td>8808</td>\n",
       "      <td>7684</td>\n",
       "      <td>2405</td>\n",
       "      <td>3516</td>\n",
       "      <td>7844</td>\n",
       "    </tr>\n",
       "    <tr>\n",
       "      <th>3</th>\n",
       "      <td>1</td>\n",
       "      <td>3</td>\n",
       "      <td>13265</td>\n",
       "      <td>1196</td>\n",
       "      <td>4221</td>\n",
       "      <td>6404</td>\n",
       "      <td>507</td>\n",
       "      <td>1788</td>\n",
       "    </tr>\n",
       "    <tr>\n",
       "      <th>4</th>\n",
       "      <td>2</td>\n",
       "      <td>3</td>\n",
       "      <td>22615</td>\n",
       "      <td>5410</td>\n",
       "      <td>7198</td>\n",
       "      <td>3915</td>\n",
       "      <td>1777</td>\n",
       "      <td>5185</td>\n",
       "    </tr>\n",
       "  </tbody>\n",
       "</table>\n",
       "</div>"
      ],
      "text/plain": [
       "   Channel  Region  Fresh  Milk  Grocery  Frozen  Detergents  Delicassen\n",
       "0        2       3  12669  9656     7561     214        2674        1338\n",
       "1        2       3   7057  9810     9568    1762        3293        1776\n",
       "2        2       3   6353  8808     7684    2405        3516        7844\n",
       "3        1       3  13265  1196     4221    6404         507        1788\n",
       "4        2       3  22615  5410     7198    3915        1777        5185"
      ]
     },
     "execution_count": 2,
     "metadata": {},
     "output_type": "execute_result"
    }
   ],
   "source": [
    "CustomerData = pd.read_csv('WholesaleCustomersData.csv') #Reading my csv file that I have found from the \n",
    "                                                         #the UCI Machine Learning Repository by the given link:\"https://archive.ics.uci.edu/ml/datasets/Wholesale+customers\"\n",
    "\n",
    "    \n",
    "#Preparing the dataframe for to run Pca and Kmeans on it\n",
    "Customerdf = pd.DataFrame(CustomerData, columns=['Channel','Region','Fresh','Milk','Grocery', 'Frozen','Detergents','Delicassen'])\n",
    "\n",
    "#The spesific dataset I will be using is about the sales of a wholesale distributor\n",
    "#It includes the annual spendings in  diverse product categories \n",
    "\n",
    "#The Column name Channel refers to the buyer place \"1:Hotel/Restaurant/Cafe , 2:Retail\"\n",
    "#The Column name Region refers to \"1:Lisbon ,  2:Oporto , 3:Other\"\n",
    "#The remaining columns are for the types of the products that is bought\n",
    "\n",
    "\n",
    "#Our data has 8 dimensions and firstly, using PCA, we are going to reduce its dimensions\n",
    "\n",
    "Customerdf.head()"
   ]
  },
  {
   "cell_type": "code",
   "execution_count": 3,
   "metadata": {},
   "outputs": [
    {
     "data": {
      "text/html": [
       "<div>\n",
       "<style scoped>\n",
       "    .dataframe tbody tr th:only-of-type {\n",
       "        vertical-align: middle;\n",
       "    }\n",
       "\n",
       "    .dataframe tbody tr th {\n",
       "        vertical-align: top;\n",
       "    }\n",
       "\n",
       "    .dataframe thead th {\n",
       "        text-align: right;\n",
       "    }\n",
       "</style>\n",
       "<table border=\"1\" class=\"dataframe\">\n",
       "  <thead>\n",
       "    <tr style=\"text-align: right;\">\n",
       "      <th></th>\n",
       "      <th>0</th>\n",
       "      <th>1</th>\n",
       "      <th>2</th>\n",
       "      <th>3</th>\n",
       "      <th>4</th>\n",
       "      <th>5</th>\n",
       "      <th>6</th>\n",
       "      <th>7</th>\n",
       "    </tr>\n",
       "  </thead>\n",
       "  <tbody>\n",
       "    <tr>\n",
       "      <th>0</th>\n",
       "      <td>0.843939</td>\n",
       "      <td>-0.515351</td>\n",
       "      <td>-0.767632</td>\n",
       "      <td>-0.044215</td>\n",
       "      <td>-0.446234</td>\n",
       "      <td>-0.939441</td>\n",
       "      <td>0.654762</td>\n",
       "      <td>0.018102</td>\n",
       "    </tr>\n",
       "    <tr>\n",
       "      <th>1</th>\n",
       "      <td>1.062676</td>\n",
       "      <td>-0.484601</td>\n",
       "      <td>-0.672975</td>\n",
       "      <td>0.401372</td>\n",
       "      <td>-0.130458</td>\n",
       "      <td>-0.867227</td>\n",
       "      <td>0.511022</td>\n",
       "      <td>0.077895</td>\n",
       "    </tr>\n",
       "    <tr>\n",
       "      <th>2</th>\n",
       "      <td>1.269141</td>\n",
       "      <td>0.682055</td>\n",
       "      <td>-0.664095</td>\n",
       "      <td>1.634953</td>\n",
       "      <td>-1.193813</td>\n",
       "      <td>-1.078442</td>\n",
       "      <td>-0.203152</td>\n",
       "      <td>-0.254037</td>\n",
       "    </tr>\n",
       "    <tr>\n",
       "      <th>3</th>\n",
       "      <td>-1.056782</td>\n",
       "      <td>0.610821</td>\n",
       "      <td>-0.505654</td>\n",
       "      <td>0.196005</td>\n",
       "      <td>0.457855</td>\n",
       "      <td>0.116959</td>\n",
       "      <td>-0.313804</td>\n",
       "      <td>0.054377</td>\n",
       "    </tr>\n",
       "    <tr>\n",
       "      <th>4</th>\n",
       "      <td>0.634030</td>\n",
       "      <td>0.974199</td>\n",
       "      <td>-0.771209</td>\n",
       "      <td>0.186374</td>\n",
       "      <td>-0.813877</td>\n",
       "      <td>-1.505372</td>\n",
       "      <td>-0.160399</td>\n",
       "      <td>0.003763</td>\n",
       "    </tr>\n",
       "    <tr>\n",
       "      <th>...</th>\n",
       "      <td>...</td>\n",
       "      <td>...</td>\n",
       "      <td>...</td>\n",
       "      <td>...</td>\n",
       "      <td>...</td>\n",
       "      <td>...</td>\n",
       "      <td>...</td>\n",
       "      <td>...</td>\n",
       "    </tr>\n",
       "    <tr>\n",
       "      <th>435</th>\n",
       "      <td>0.222884</td>\n",
       "      <td>2.480505</td>\n",
       "      <td>-0.360936</td>\n",
       "      <td>-0.601036</td>\n",
       "      <td>1.109212</td>\n",
       "      <td>0.364851</td>\n",
       "      <td>0.346184</td>\n",
       "      <td>0.860980</td>\n",
       "    </tr>\n",
       "    <tr>\n",
       "      <th>436</th>\n",
       "      <td>-1.290172</td>\n",
       "      <td>1.560397</td>\n",
       "      <td>-0.756171</td>\n",
       "      <td>-1.342401</td>\n",
       "      <td>-0.533462</td>\n",
       "      <td>-0.205789</td>\n",
       "      <td>-0.242280</td>\n",
       "      <td>-0.226984</td>\n",
       "    </tr>\n",
       "    <tr>\n",
       "      <th>437</th>\n",
       "      <td>3.865149</td>\n",
       "      <td>-0.479854</td>\n",
       "      <td>-0.525345</td>\n",
       "      <td>-0.687132</td>\n",
       "      <td>0.108968</td>\n",
       "      <td>0.280320</td>\n",
       "      <td>-0.575297</td>\n",
       "      <td>-0.089003</td>\n",
       "    </tr>\n",
       "    <tr>\n",
       "      <th>438</th>\n",
       "      <td>-1.097067</td>\n",
       "      <td>-0.069896</td>\n",
       "      <td>-0.630128</td>\n",
       "      <td>0.311821</td>\n",
       "      <td>-0.424792</td>\n",
       "      <td>0.335170</td>\n",
       "      <td>-0.153744</td>\n",
       "      <td>-0.037308</td>\n",
       "    </tr>\n",
       "    <tr>\n",
       "      <th>439</th>\n",
       "      <td>-1.165951</td>\n",
       "      <td>-0.902157</td>\n",
       "      <td>-0.597705</td>\n",
       "      <td>0.342656</td>\n",
       "      <td>-0.004388</td>\n",
       "      <td>0.508721</td>\n",
       "      <td>0.024360</td>\n",
       "      <td>0.018668</td>\n",
       "    </tr>\n",
       "  </tbody>\n",
       "</table>\n",
       "<p>440 rows × 8 columns</p>\n",
       "</div>"
      ],
      "text/plain": [
       "            0         1         2         3         4         5         6  \\\n",
       "0    0.843939 -0.515351 -0.767632 -0.044215 -0.446234 -0.939441  0.654762   \n",
       "1    1.062676 -0.484601 -0.672975  0.401372 -0.130458 -0.867227  0.511022   \n",
       "2    1.269141  0.682055 -0.664095  1.634953 -1.193813 -1.078442 -0.203152   \n",
       "3   -1.056782  0.610821 -0.505654  0.196005  0.457855  0.116959 -0.313804   \n",
       "4    0.634030  0.974199 -0.771209  0.186374 -0.813877 -1.505372 -0.160399   \n",
       "..        ...       ...       ...       ...       ...       ...       ...   \n",
       "435  0.222884  2.480505 -0.360936 -0.601036  1.109212  0.364851  0.346184   \n",
       "436 -1.290172  1.560397 -0.756171 -1.342401 -0.533462 -0.205789 -0.242280   \n",
       "437  3.865149 -0.479854 -0.525345 -0.687132  0.108968  0.280320 -0.575297   \n",
       "438 -1.097067 -0.069896 -0.630128  0.311821 -0.424792  0.335170 -0.153744   \n",
       "439 -1.165951 -0.902157 -0.597705  0.342656 -0.004388  0.508721  0.024360   \n",
       "\n",
       "            7  \n",
       "0    0.018102  \n",
       "1    0.077895  \n",
       "2   -0.254037  \n",
       "3    0.054377  \n",
       "4    0.003763  \n",
       "..        ...  \n",
       "435  0.860980  \n",
       "436 -0.226984  \n",
       "437 -0.089003  \n",
       "438 -0.037308  \n",
       "439  0.018668  \n",
       "\n",
       "[440 rows x 8 columns]"
      ]
     },
     "execution_count": 3,
     "metadata": {},
     "output_type": "execute_result"
    }
   ],
   "source": [
    "from sklearn.decomposition import PCA #importing PCA(principal component analysis) from the sklearn for to reduce the dimension of our dataset\n",
    "from sklearn.preprocessing import StandardScaler #we are importing StandartScaler to normalize our data\n",
    "\n",
    "#The next step is to do \"Standardization\" on our data, This step is very important for us, to stabilize the variance range between each dimension\n",
    "#it will transform our data in a way that its distribution will have a mean value 0 and standard deviation of 1\n",
    "#Now all of our dimensions(columns) have the same scale\n",
    "\n",
    "CustomerdfScaled = StandardScaler().fit_transform(Customerdf) #Standardization\n",
    "\n",
    "#Creating the pca object with 8 components \n",
    "\n",
    "#As a side note, I have seen examples of PCA usage that is first creating the pca object with no components input, then \n",
    "#examining the variance of each column, then deciding the component number that we are going to include in pca\n",
    "#However, after trying the that way also, I did not seen a considerable change in the result, probably that's why we were removing them\n",
    "#in the first place. I will not do that for the sake of simplicity because I am not entirely sure that it is %100 necessary\n",
    "\n",
    "\n",
    "myPCA = PCA(n_components=8) # number of components is the number of dimensions\n",
    "\n",
    "myPC = myPCA.fit_transform(CustomerdfScaled) #Fitting and transforming our data\n",
    "\n",
    "myPC_df= pd.DataFrame(myPC) #creating a dataframe from my new components\n",
    "\n",
    "myPC_df\n"
   ]
  },
  {
   "cell_type": "code",
   "execution_count": 4,
   "metadata": {
    "scrolled": true
   },
   "outputs": [
    {
     "data": {
      "image/png": "[encoded data removed]",
      "text/plain": [
       "<Figure size 360x360 with 1 Axes>"
      ]
     },
     "metadata": {
      "needs_background": "light"
     },
     "output_type": "display_data"
    }
   ],
   "source": [
    "# We can see each dimensions variance now, basically  all off the data on the first dataframe is reduced to 8\n",
    "# principal components that have no correlation between them. \n",
    "# We can observe their variance by this plotting\n",
    "plt.figure(figsize = (5,5))\n",
    "plt.plot(range(0,8) , myPCA.explained_variance_ratio_ ,color='red' )\n",
    "plt.title('Variance of components')\n",
    "plt.show()\n",
    "\n",
    "\n"
   ]
  },
  {
   "cell_type": "code",
   "execution_count": 5,
   "metadata": {},
   "outputs": [
    {
     "data": {
      "image/png": "[encoded data removed]",
      "text/plain": [
       "<Figure size 432x288 with 1 Axes>"
      ]
     },
     "metadata": {
      "needs_background": "light"
     },
     "output_type": "display_data"
    }
   ],
   "source": [
    "# getting the first 2 components bcz of the variance\n",
    "plt.scatter(myPC_df[0], myPC_df[1], color='red')\n",
    "plt.xlabel('PCA[0]')\n",
    "plt.ylabel('PCA[1]')\n",
    "plt.show()"
   ]
  },
  {
   "cell_type": "code",
   "execution_count": 6,
   "metadata": {},
   "outputs": [
    {
     "data": {
      "image/png": "[encoded data removed]",
      "text/plain": [
       "<Figure size 432x288 with 1 Axes>"
      ]
     },
     "metadata": {
      "needs_background": "light"
     },
     "output_type": "display_data"
    }
   ],
   "source": [
    "from sklearn.cluster       import KMeans # Importing the KMeans from the sklearn for the clustering\n",
    "\n",
    "inertias = []\n",
    "\n",
    "# The range determines how many times that we are going to test the numbers we may choose as a cluster number\n",
    "#I will be using the inertia to find out what would be a good choice of cluster\n",
    "\n",
    "for k in range(1,20):   #I will be testing for up to 20 clusters\n",
    "    model = KMeans(n_clusters=k)\n",
    "    \n",
    "    # Fit model to samples\n",
    "    model.fit(myPC_df.iloc[:,:3])\n",
    "    \n",
    "    # Append the inertia to the list of inertias\n",
    "    inertias.append(model.inertia_)\n",
    "    \n",
    "plt.plot(range(1,20), inertias, '--p' ,color='red')\n",
    "plt.xlabel('Cluster number')\n",
    "plt.ylabel('inertia')\n",
    "plt.show()"
   ]
  },
  {
   "cell_type": "code",
   "execution_count": 11,
   "metadata": {},
   "outputs": [
    {
     "data": {
      "image/png": "[encoded data removed]",
      "text/plain": [
       "<Figure size 432x288 with 1 Axes>"
      ]
     },
     "metadata": {
      "needs_background": "light"
     },
     "output_type": "display_data"
    }
   ],
   "source": [
    "#With K-means clustering, there is an important thing which is \"the elbow-method\", observing the above graph,\n",
    "#I should decide a number of cluster-inertia point on the graph that looks like an elbow which indicates a \n",
    "#transition to the steep downfall to a more smooth line\n",
    "#In my case, I will be choosing to use 5 clusters\n",
    "\n",
    "model = KMeans(n_clusters=5) #cluster number as input\n",
    "model.fit(myPC_df.iloc[:,:2]) #first two  of my PCA's components\n",
    "\n",
    "labels = model.predict(myPC_df.iloc[:,:2])\n",
    "plt.scatter(myPC_df[0], myPC_df[1], c=labels)\n",
    "plt.title('Final Result')\n",
    "plt.show()"
   ]
  },
  {
   "cell_type": "code",
   "execution_count": null,
   "metadata": {},
   "outputs": [],
   "source": []
  }
 ],
 "metadata": {
  "kernelspec": {
   "display_name": "Python 3",
   "language": "python",
   "name": "python3"
  },
  "language_info": {
   "codemirror_mode": {
    "name": "ipython",
    "version": 3
   },
   "file_extension": ".py",
   "mimetype": "text/x-python",
   "name": "python",
   "nbconvert_exporter": "python",
   "pygments_lexer": "ipython3",
   "version": "3.8.5"
  }
 },
 "nbformat": 4,
 "nbformat_minor": 4
}
