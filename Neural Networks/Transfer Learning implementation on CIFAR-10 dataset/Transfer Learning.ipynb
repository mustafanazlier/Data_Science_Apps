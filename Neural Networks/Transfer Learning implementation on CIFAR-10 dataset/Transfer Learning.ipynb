{
 "cells": [
  {
   "cell_type": "markdown",
   "id": "e7e1dd90",
   "metadata": {
    "id": "e7e1dd90"
   },
   "source": [
    "## Neural Networks Homework 6 "
   ]
  },
  {
   "cell_type": "markdown",
   "id": "121ea59d",
   "metadata": {
    "id": "121ea59d"
   },
   "source": [
    "### Mustafa Nazlıer - 15050111035\n"
   ]
  },
  {
   "cell_type": "markdown",
   "id": "6wlmYqD2Ipfj",
   "metadata": {
    "id": "6wlmYqD2Ipfj"
   },
   "source": [
    "### The analysis and the comments for the experiments resides after the experiments"
   ]
  },
  {
   "cell_type": "code",
   "execution_count": null,
   "id": "cooperative-specific",
   "metadata": {
    "colab": {
     "base_uri": "https://localhost:8080/"
    },
    "id": "cooperative-specific",
    "outputId": "c93be1ef-0ae2-4864-bb44-92520e5c005a"
   },
   "outputs": [
    {
     "name": "stdout",
     "output_type": "stream",
     "text": [
      "2.5.0\n"
     ]
    }
   ],
   "source": [
    "# check version\n",
    "import tensorflow as tf\n",
    "print(tf.__version__)"
   ]
  },
  {
   "cell_type": "code",
   "execution_count": null,
   "id": "encouraging-lying",
   "metadata": {
    "id": "encouraging-lying"
   },
   "outputs": [],
   "source": [
    "%matplotlib inline\n",
    "import matplotlib.pyplot as plt\n",
    "import numpy as np\n",
    "import pandas as pd\n",
    "\n",
    "\n",
    "from tensorflow.keras.datasets import cifar10           #importing cifar10\n",
    "from tensorflow.keras.utils import plot_model\n",
    "from tensorflow.keras import Sequential\n",
    "from tensorflow.keras.layers import Input, Flatten, Dense   # importing layers that we are probably going to use\n",
    "\n",
    "import tensorflow_hub as hub            #tensor hub \n",
    "from tensorflow.keras.layers.experimental.preprocessing import Resizing   # importing Resizing layer for a better optimized resizing \n",
    "\n"
   ]
  },
  {
   "cell_type": "code",
   "execution_count": null,
   "id": "covered-heath",
   "metadata": {
    "colab": {
     "base_uri": "https://localhost:8080/"
    },
    "id": "covered-heath",
    "outputId": "ed9052ad-3da2-487e-e58e-9287cc0b0236"
   },
   "outputs": [
    {
     "name": "stdout",
     "output_type": "stream",
     "text": [
      "Downloading data from https://www.cs.toronto.edu/~kriz/cifar-10-python.tar.gz\n",
      "170500096/170498071 [==============================] - 6s 0us/step\n"
     ]
    }
   ],
   "source": [
    "(train_images, train_labels), (X_test, y_test) = cifar10.load_data()\n",
    "X_test = X_test / 255.0\n",
    "\n",
    "X_train_small, X_valid_small = train_images[:1000], train_images[1000:2000]\n",
    "y_train_small, y_valid_small = train_labels[:1000], train_labels[1000:2000]\n",
    "X_train_small = X_train_small / 255.0\n",
    "X_valid_small = X_valid_small / 255.0\n",
    "\n",
    "X_train_moderate, X_valid_moderate = train_images[:5000], train_images[5000:10000]         # Creating the small, moderately sized and the large dataset with the given dimensions\n",
    "y_train_moderate, y_valid_moderate = train_labels[:5000], train_labels[5000:10000]\n",
    "X_train_moderate = X_train_moderate / 255.0\n",
    "X_valid_moderate = X_valid_moderate / 255.0\n",
    "\n",
    "X_train_large, X_valid_large = train_images[:30000], train_images[:20000]\n",
    "y_train_large, y_valid_large = train_labels[:30000], train_labels[:20000]\n",
    "X_train_large = X_train_large / 255.0\n",
    "X_valid_large = X_valid_large / 255.0\n"
   ]
  },
  {
   "cell_type": "code",
   "execution_count": null,
   "id": "contained-conflict",
   "metadata": {
    "colab": {
     "base_uri": "https://localhost:8080/"
    },
    "id": "contained-conflict",
    "outputId": "5e66ec0e-e5ad-4e9d-a502-7ac8e1a857d7"
   },
   "outputs": [
    {
     "name": "stdout",
     "output_type": "stream",
     "text": [
      "Small Dataset\n",
      "Train      :  (1000, 32, 32, 3)\n",
      "Validation :  (1000, 32, 32, 3)\n",
      "Test       :  (10000, 32, 32, 3)\n",
      "Moderate size Dataset\n",
      "Train      :  (5000, 32, 32, 3)\n",
      "Validation :  (5000, 32, 32, 3)\n",
      "Test       :  (10000, 32, 32, 3)\n",
      "Large  Dataset\n",
      "Train      :  (30000, 32, 32, 3)\n",
      "Validation :  (20000, 32, 32, 3)\n",
      "Test       :  (10000, 32, 32, 3)\n"
     ]
    }
   ],
   "source": [
    "print('Small Dataset')\n",
    "print('Train      : ', X_train_small.shape)\n",
    "print('Validation : ', X_valid_small.shape)\n",
    "print('Test       : ', X_test.shape)\n",
    "\n",
    "print('Moderate size Dataset')\n",
    "print('Train      : ', X_train_moderate.shape)\n",
    "print('Validation : ', X_valid_moderate.shape)             #Shapes of the three dataset that we have created\n",
    "print('Test       : ', X_test.shape)\n",
    "\n",
    "print('Large  Dataset')\n",
    "print('Train      : ', X_train_large.shape)\n",
    "print('Validation : ', X_valid_large.shape)\n",
    "print('Test       : ', X_test.shape)"
   ]
  },
  {
   "cell_type": "markdown",
   "id": "traditional-short",
   "metadata": {
    "id": "traditional-short"
   },
   "source": [
    "# Transfer Learning Experiments"
   ]
  },
  {
   "cell_type": "markdown",
   "id": "69e7637b",
   "metadata": {
    "id": "69e7637b"
   },
   "source": [
    "## SMALL DATASET"
   ]
  },
  {
   "cell_type": "markdown",
   "id": "39dfb83a",
   "metadata": {
    "id": "39dfb83a"
   },
   "source": [
    "### Training from scratch"
   ]
  },
  {
   "cell_type": "code",
   "execution_count": null,
   "id": "spectacular-gates",
   "metadata": {
    "id": "spectacular-gates"
   },
   "outputs": [],
   "source": [
    "\n",
    "\n",
    "TL_model = tf.keras.Sequential([\n",
    "        Resizing(224,224),\n",
    "       hub.KerasLayer(\"https://tfhub.dev/google/imagenet/inception_v1/classification/5\" , input_shape=(224, 224, 3), trainable=True)\n",
    "\n",
    "])\n",
    "TL_model.build([None, 224, 224 , 3])"
   ]
  },
  {
   "cell_type": "code",
   "execution_count": null,
   "id": "circular-shower",
   "metadata": {
    "colab": {
     "base_uri": "https://localhost:8080/"
    },
    "id": "circular-shower",
    "outputId": "ac9613af-71be-4a65-c243-670a3ad4b0af"
   },
   "outputs": [
    {
     "name": "stdout",
     "output_type": "stream",
     "text": [
      "Model: \"sequential\"\n",
      "_________________________________________________________________\n",
      "Layer (type)                 Output Shape              Param #   \n",
      "=================================================================\n",
      "resizing (Resizing)          (None, 224, 224, 3)       0         \n",
      "_________________________________________________________________\n",
      "keras_layer (KerasLayer)     (None, 1001)              6633209   \n",
      "=================================================================\n",
      "Total params: 6,633,209\n",
      "Trainable params: 6,618,649\n",
      "Non-trainable params: 14,560\n",
      "_________________________________________________________________\n"
     ]
    }
   ],
   "source": [
    "TL_model.summary()"
   ]
  },
  {
   "cell_type": "code",
   "execution_count": null,
   "id": "painful-demand",
   "metadata": {
    "id": "painful-demand"
   },
   "outputs": [],
   "source": [
    "TL_model.compile(loss=tf.keras.losses.SparseCategoricalCrossentropy(from_logits=True), optimizer='Adam', metrics=['accuracy'])"
   ]
  },
  {
   "cell_type": "code",
   "execution_count": null,
   "id": "sporting-motorcycle",
   "metadata": {
    "colab": {
     "base_uri": "https://localhost:8080/"
    },
    "id": "sporting-motorcycle",
    "outputId": "71e02b43-40cb-4b50-a080-569eef1ebf4e"
   },
   "outputs": [
    {
     "name": "stdout",
     "output_type": "stream",
     "text": [
      "Epoch 1/10\n",
      "32/32 [==============================] - 53s 466ms/step - loss: 2.2433 - accuracy: 0.5100 - val_loss: 11.4123 - val_accuracy: 0.1730\n",
      "Epoch 2/10\n",
      "32/32 [==============================] - 12s 384ms/step - loss: 0.9952 - accuracy: 0.7420 - val_loss: 5.1768 - val_accuracy: 0.3330\n",
      "Epoch 3/10\n",
      "32/32 [==============================] - 12s 385ms/step - loss: 0.6172 - accuracy: 0.8700 - val_loss: 2.8819 - val_accuracy: 0.4670\n",
      "Epoch 4/10\n",
      "32/32 [==============================] - 12s 385ms/step - loss: 0.7447 - accuracy: 0.8380 - val_loss: 2.7248 - val_accuracy: 0.4610\n",
      "Epoch 5/10\n",
      "32/32 [==============================] - 12s 385ms/step - loss: 0.6265 - accuracy: 0.8760 - val_loss: 2.4985 - val_accuracy: 0.5260\n",
      "Epoch 6/10\n",
      "32/32 [==============================] - 12s 386ms/step - loss: 0.4705 - accuracy: 0.9230 - val_loss: 3.6546 - val_accuracy: 0.4430\n",
      "Epoch 7/10\n",
      "32/32 [==============================] - 12s 385ms/step - loss: 0.4169 - accuracy: 0.9400 - val_loss: 2.6613 - val_accuracy: 0.4820\n",
      "Epoch 8/10\n",
      "32/32 [==============================] - 12s 385ms/step - loss: 0.3705 - accuracy: 0.9630 - val_loss: 1.9073 - val_accuracy: 0.5730\n",
      "Epoch 9/10\n",
      "32/32 [==============================] - 12s 385ms/step - loss: 0.3417 - accuracy: 0.9680 - val_loss: 3.5397 - val_accuracy: 0.4690\n",
      "Epoch 10/10\n",
      "32/32 [==============================] - 12s 386ms/step - loss: 0.3465 - accuracy: 0.9620 - val_loss: 2.3786 - val_accuracy: 0.5640\n",
      "CPU times: user 1min 30s, sys: 2.79 s, total: 1min 33s\n",
      "Wall time: 3min 28s\n"
     ]
    }
   ],
   "source": [
    "import timeit\n",
    "\n",
    "numberOfEpochs = 10\n",
    "%time h = TL_model.fit(X_train_small, y_train_small, epochs=numberOfEpochs, shuffle=True, validation_data=(X_valid_small, y_valid_small))"
   ]
  },
  {
   "cell_type": "code",
   "execution_count": null,
   "id": "organic-serbia",
   "metadata": {
    "colab": {
     "base_uri": "https://localhost:8080/",
     "height": 320
    },
    "id": "organic-serbia",
    "outputId": "eb69dfd9-0216-4980-e48c-c197e18e5e9c"
   },
   "outputs": [
    {
     "data": {
      "image/png": "[encoded data removed]",
      "text/plain": [
       "<Figure size 576x360 with 1 Axes>"
      ]
     },
     "metadata": {
      "needs_background": "light",
      "tags": []
     },
     "output_type": "display_data"
    }
   ],
   "source": [
    "pd.DataFrame(h.history).plot(figsize=(8, 5))\n",
    "plt.grid(True)\n",
    "plt.show()"
   ]
  },
  {
   "cell_type": "code",
   "execution_count": null,
   "id": "unlike-bouquet",
   "metadata": {
    "colab": {
     "base_uri": "https://localhost:8080/"
    },
    "id": "unlike-bouquet",
    "outputId": "92b75b05-72f0-40c5-ac29-f8fab25db3a9"
   },
   "outputs": [
    {
     "name": "stdout",
     "output_type": "stream",
     "text": [
      "\n",
      "Test accuracy: 0.5753999948501587\n"
     ]
    }
   ],
   "source": [
    "test_loss, test_acc = TL_model.evaluate(X_test, y_test, verbose=0)\n",
    "\n",
    "print('\\nTest accuracy:', test_acc)"
   ]
  },
  {
   "cell_type": "markdown",
   "id": "31f6b9dd",
   "metadata": {
    "id": "31f6b9dd"
   },
   "source": [
    "### Removing the output layer and freezing the inception_v3 layers and training only the resizing and output layer that we have added"
   ]
  },
  {
   "cell_type": "code",
   "execution_count": null,
   "id": "stylish-coaching",
   "metadata": {
    "id": "stylish-coaching"
   },
   "outputs": [],
   "source": [
    "TL_model1 = tf.keras.Sequential([\n",
    "        Resizing(224,224),\n",
    "       hub.KerasLayer(\"https://tfhub.dev/google/tf2-preview/inception_v3/feature_vector/4\" , input_shape=(224, 224, 3), trainable=False),\n",
    "       tf.keras.layers.Dense(10, activation='softmax')\n",
    "])\n",
    "TL_model1.build([None, 224, 224 , 3])\n",
    "\n",
    "\n",
    "\n"
   ]
  },
  {
   "cell_type": "code",
   "execution_count": null,
   "id": "7VhPwiW6MUgI",
   "metadata": {
    "colab": {
     "base_uri": "https://localhost:8080/"
    },
    "id": "7VhPwiW6MUgI",
    "outputId": "2350c2a0-8fc9-4c3a-e126-3a0c6d33bf81"
   },
   "outputs": [
    {
     "name": "stdout",
     "output_type": "stream",
     "text": [
      "Model: \"sequential_1\"\n",
      "_________________________________________________________________\n",
      "Layer (type)                 Output Shape              Param #   \n",
      "=================================================================\n",
      "resizing_1 (Resizing)        (None, 224, 224, 3)       0         \n",
      "_________________________________________________________________\n",
      "keras_layer_1 (KerasLayer)   (None, 2048)              21802784  \n",
      "_________________________________________________________________\n",
      "dense (Dense)                (None, 10)                20490     \n",
      "=================================================================\n",
      "Total params: 21,823,274\n",
      "Trainable params: 20,490\n",
      "Non-trainable params: 21,802,784\n",
      "_________________________________________________________________\n"
     ]
    }
   ],
   "source": [
    "TL_model1.summary()"
   ]
  },
  {
   "cell_type": "code",
   "execution_count": null,
   "id": "a3DYQn4RMiru",
   "metadata": {
    "id": "a3DYQn4RMiru"
   },
   "outputs": [],
   "source": [
    "TL_model1.compile(loss=tf.keras.losses.SparseCategoricalCrossentropy(from_logits=True), optimizer='Adam', metrics=['accuracy'])"
   ]
  },
  {
   "cell_type": "code",
   "execution_count": null,
   "id": "XxT4BdZKMdoN",
   "metadata": {
    "colab": {
     "base_uri": "https://localhost:8080/"
    },
    "id": "XxT4BdZKMdoN",
    "outputId": "2c44b16d-26e9-4278-90f4-06d3b031f98f"
   },
   "outputs": [
    {
     "name": "stdout",
     "output_type": "stream",
     "text": [
      "Epoch 1/10\n"
     ]
    },
    {
     "name": "stderr",
     "output_type": "stream",
     "text": [
      "/usr/local/lib/python3.7/dist-packages/tensorflow/python/keras/backend.py:4930: UserWarning: \"`sparse_categorical_crossentropy` received `from_logits=True`, but the `output` argument was produced by a sigmoid or softmax activation and thus does not represent logits. Was this intended?\"\n",
      "  '\"`sparse_categorical_crossentropy` received `from_logits=True`, but '\n"
     ]
    },
    {
     "name": "stdout",
     "output_type": "stream",
     "text": [
      "32/32 [==============================] - 19s 381ms/step - loss: 1.5009 - accuracy: 0.5000 - val_loss: 0.8758 - val_accuracy: 0.7360\n",
      "Epoch 2/10\n",
      "32/32 [==============================] - 10s 322ms/step - loss: 0.6113 - accuracy: 0.8220 - val_loss: 0.6487 - val_accuracy: 0.7930\n",
      "Epoch 3/10\n",
      "32/32 [==============================] - 10s 321ms/step - loss: 0.4415 - accuracy: 0.8690 - val_loss: 0.6363 - val_accuracy: 0.7870\n",
      "Epoch 4/10\n",
      "32/32 [==============================] - 10s 322ms/step - loss: 0.3459 - accuracy: 0.9040 - val_loss: 0.5695 - val_accuracy: 0.8090\n",
      "Epoch 5/10\n",
      "32/32 [==============================] - 10s 322ms/step - loss: 0.2740 - accuracy: 0.9230 - val_loss: 0.5543 - val_accuracy: 0.8160\n",
      "Epoch 6/10\n",
      "32/32 [==============================] - 10s 321ms/step - loss: 0.2159 - accuracy: 0.9540 - val_loss: 0.5281 - val_accuracy: 0.8250\n",
      "Epoch 7/10\n",
      "32/32 [==============================] - 10s 321ms/step - loss: 0.1759 - accuracy: 0.9660 - val_loss: 0.5169 - val_accuracy: 0.8280\n",
      "Epoch 8/10\n",
      "32/32 [==============================] - 10s 321ms/step - loss: 0.1494 - accuracy: 0.9770 - val_loss: 0.5202 - val_accuracy: 0.8220\n",
      "Epoch 9/10\n",
      "32/32 [==============================] - 10s 321ms/step - loss: 0.1337 - accuracy: 0.9860 - val_loss: 0.5178 - val_accuracy: 0.8170\n",
      "Epoch 10/10\n",
      "32/32 [==============================] - 10s 321ms/step - loss: 0.1098 - accuracy: 0.9920 - val_loss: 0.5146 - val_accuracy: 0.8270\n",
      "CPU times: user 31.3 s, sys: 2.46 s, total: 33.7 s\n",
      "Wall time: 2min 27s\n"
     ]
    }
   ],
   "source": [
    "import timeit\n",
    "\n",
    "numberOfEpochs = 10\n",
    "%time h = TL_model1.fit(X_train_small, y_train_small, epochs=numberOfEpochs,  validation_data=(X_valid_small, y_valid_small))"
   ]
  },
  {
   "cell_type": "code",
   "execution_count": null,
   "id": "Kxh32sqqG66Q",
   "metadata": {
    "colab": {
     "base_uri": "https://localhost:8080/",
     "height": 320
    },
    "id": "Kxh32sqqG66Q",
    "outputId": "9be4fc0d-b4c0-46fa-ba04-2a82a6ae4239"
   },
   "outputs": [
    {
     "data": {
      "image/png": "[encoded data removed]",
      "text/plain": [
       "<Figure size 576x360 with 1 Axes>"
      ]
     },
     "metadata": {
      "needs_background": "light",
      "tags": []
     },
     "output_type": "display_data"
    }
   ],
   "source": [
    "pd.DataFrame(h.history).plot(figsize=(8, 5))\n",
    "plt.grid(True)\n",
    "plt.show()"
   ]
  },
  {
   "cell_type": "code",
   "execution_count": null,
   "id": "TBbAWLqTS8jE",
   "metadata": {
    "colab": {
     "base_uri": "https://localhost:8080/"
    },
    "id": "TBbAWLqTS8jE",
    "outputId": "d597b30a-df6a-4041-8b80-0027f45d1d03"
   },
   "outputs": [
    {
     "name": "stdout",
     "output_type": "stream",
     "text": [
      "\n",
      "Test accuracy: 0.8136000037193298\n"
     ]
    }
   ],
   "source": [
    "test_loss, test_acc = TL_model1.evaluate(X_test, y_test, verbose=0)\n",
    "\n",
    "print('\\nTest accuracy:', test_acc)"
   ]
  },
  {
   "cell_type": "markdown",
   "id": "87f0e0e9",
   "metadata": {
    "id": "87f0e0e9"
   },
   "source": [
    "### Removing the output layer and training the whole network with the added output layer of our selection"
   ]
  },
  {
   "cell_type": "code",
   "execution_count": null,
   "id": "IeM1O-jnMvUV",
   "metadata": {
    "id": "IeM1O-jnMvUV"
   },
   "outputs": [],
   "source": [
    "TL_model2 = tf.keras.Sequential([\n",
    "        Resizing(224,224),\n",
    "       hub.KerasLayer(\"https://tfhub.dev/google/tf2-preview/inception_v3/feature_vector/4\" , input_shape=(224, 224, 3), trainable=True),\n",
    "       tf.keras.layers.Dense(10, activation='softmax')\n",
    "])\n",
    "TL_model2.build([None, 224, 224 , 3])\n"
   ]
  },
  {
   "cell_type": "code",
   "execution_count": null,
   "id": "mZG3wFyVM3uW",
   "metadata": {
    "colab": {
     "base_uri": "https://localhost:8080/"
    },
    "id": "mZG3wFyVM3uW",
    "outputId": "39fc6226-e291-4e5e-c463-e230d8d7ea39"
   },
   "outputs": [
    {
     "name": "stdout",
     "output_type": "stream",
     "text": [
      "Model: \"sequential_2\"\n",
      "_________________________________________________________________\n",
      "Layer (type)                 Output Shape              Param #   \n",
      "=================================================================\n",
      "resizing_2 (Resizing)        (None, 224, 224, 3)       0         \n",
      "_________________________________________________________________\n",
      "keras_layer_2 (KerasLayer)   (None, 2048)              21802784  \n",
      "_________________________________________________________________\n",
      "dense_1 (Dense)              (None, 10)                20490     \n",
      "=================================================================\n",
      "Total params: 21,823,274\n",
      "Trainable params: 21,788,842\n",
      "Non-trainable params: 34,432\n",
      "_________________________________________________________________\n"
     ]
    }
   ],
   "source": [
    "TL_model2.summary()"
   ]
  },
  {
   "cell_type": "code",
   "execution_count": null,
   "id": "_J4-RC2OM7tu",
   "metadata": {
    "id": "_J4-RC2OM7tu"
   },
   "outputs": [],
   "source": [
    "TL_model2.compile(loss=tf.keras.losses.SparseCategoricalCrossentropy(from_logits=True), optimizer='Adam', metrics=['accuracy'])"
   ]
  },
  {
   "cell_type": "code",
   "execution_count": null,
   "id": "QdoeYGAZM-Lu",
   "metadata": {
    "colab": {
     "base_uri": "https://localhost:8080/"
    },
    "id": "QdoeYGAZM-Lu",
    "outputId": "4cbcaf9d-181a-4122-f5fa-289b623a452e"
   },
   "outputs": [
    {
     "name": "stdout",
     "output_type": "stream",
     "text": [
      "Epoch 1/10\n"
     ]
    },
    {
     "name": "stderr",
     "output_type": "stream",
     "text": [
      "/usr/local/lib/python3.7/dist-packages/tensorflow/python/keras/backend.py:4930: UserWarning: \"`sparse_categorical_crossentropy` received `from_logits=True`, but the `output` argument was produced by a sigmoid or softmax activation and thus does not represent logits. Was this intended?\"\n",
      "  '\"`sparse_categorical_crossentropy` received `from_logits=True`, but '\n"
     ]
    },
    {
     "name": "stdout",
     "output_type": "stream",
     "text": [
      "32/32 [==============================] - 39s 821ms/step - loss: 1.9207 - accuracy: 0.4730 - val_loss: 288.1374 - val_accuracy: 0.1070\n",
      "Epoch 2/10\n",
      "32/32 [==============================] - 24s 747ms/step - loss: 1.4770 - accuracy: 0.5950 - val_loss: 66.2995 - val_accuracy: 0.0870\n",
      "Epoch 3/10\n",
      "32/32 [==============================] - 24s 746ms/step - loss: 1.0132 - accuracy: 0.7570 - val_loss: 4.6250 - val_accuracy: 0.2630\n",
      "Epoch 4/10\n",
      "32/32 [==============================] - 24s 744ms/step - loss: 0.7596 - accuracy: 0.8510 - val_loss: 4.0061 - val_accuracy: 0.3400\n",
      "Epoch 5/10\n",
      "32/32 [==============================] - 24s 747ms/step - loss: 0.7333 - accuracy: 0.8410 - val_loss: 5.0630 - val_accuracy: 0.2780\n",
      "Epoch 6/10\n",
      "32/32 [==============================] - 24s 745ms/step - loss: 0.5682 - accuracy: 0.8910 - val_loss: 1.9486 - val_accuracy: 0.5180\n",
      "Epoch 7/10\n",
      "32/32 [==============================] - 24s 746ms/step - loss: 0.5050 - accuracy: 0.9250 - val_loss: 2.8064 - val_accuracy: 0.4570\n",
      "Epoch 8/10\n",
      "32/32 [==============================] - 24s 746ms/step - loss: 0.5833 - accuracy: 0.9080 - val_loss: 3.4631 - val_accuracy: 0.4410\n",
      "Epoch 9/10\n",
      "32/32 [==============================] - 24s 746ms/step - loss: 0.6479 - accuracy: 0.8600 - val_loss: 6.1591 - val_accuracy: 0.4380\n",
      "Epoch 10/10\n",
      "32/32 [==============================] - 24s 745ms/step - loss: 0.5892 - accuracy: 0.8930 - val_loss: 4.1612 - val_accuracy: 0.3750\n",
      "CPU times: user 2min 43s, sys: 2.73 s, total: 2min 46s\n",
      "Wall time: 4min 12s\n"
     ]
    }
   ],
   "source": [
    "import timeit\n",
    "\n",
    "numberOfEpochs = 10\n",
    "%time h = TL_model2.fit(X_train_small, y_train_small, epochs=numberOfEpochs, shuffle=True, validation_data=(X_valid_small, y_valid_small))"
   ]
  },
  {
   "cell_type": "code",
   "execution_count": null,
   "id": "Gx7cpwv1WyZt",
   "metadata": {
    "colab": {
     "base_uri": "https://localhost:8080/"
    },
    "id": "Gx7cpwv1WyZt",
    "outputId": "b03315ad-6605-4a60-84d3-30dd6bdef338"
   },
   "outputs": [
    {
     "name": "stdout",
     "output_type": "stream",
     "text": [
      "\n",
      "Test accuracy: 0.3799999952316284\n"
     ]
    }
   ],
   "source": [
    "test_loss, test_acc = TL_model2.evaluate(X_test, y_test, verbose=0)\n",
    "\n",
    "print('\\nTest accuracy:', test_acc)"
   ]
  },
  {
   "cell_type": "markdown",
   "id": "339ed59d",
   "metadata": {
    "id": "339ed59d"
   },
   "source": [
    "## MODERATELY SIZED DATASET"
   ]
  },
  {
   "cell_type": "markdown",
   "id": "439c9c25",
   "metadata": {
    "id": "439c9c25"
   },
   "source": [
    "### Training from scratch"
   ]
  },
  {
   "cell_type": "code",
   "execution_count": null,
   "id": "1zA9stD9V9-u",
   "metadata": {
    "id": "1zA9stD9V9-u"
   },
   "outputs": [],
   "source": [
    "TL_model = tf.keras.Sequential([\n",
    "        Resizing(224,224),\n",
    "       hub.KerasLayer(\"https://tfhub.dev/google/imagenet/inception_v1/classification/5\" , input_shape=(224, 224, 3), trainable=True)\n",
    "\n",
    "])\n",
    "TL_model.build([None, 224, 224 , 3])\n",
    "TL_model.compile(loss=tf.keras.losses.SparseCategoricalCrossentropy(from_logits=True), optimizer='Adam', metrics=['accuracy'])"
   ]
  },
  {
   "cell_type": "code",
   "execution_count": null,
   "id": "bU-p1EiMR85i",
   "metadata": {
    "colab": {
     "base_uri": "https://localhost:8080/"
    },
    "id": "bU-p1EiMR85i",
    "outputId": "327a26d0-007b-400f-b30e-1604e6fe53d2"
   },
   "outputs": [
    {
     "name": "stdout",
     "output_type": "stream",
     "text": [
      "Epoch 1/10\n",
      "157/157 [==============================] - 69s 392ms/step - loss: 1.4139 - accuracy: 0.6474 - val_loss: 1.5704 - val_accuracy: 0.6380\n",
      "Epoch 2/10\n",
      "157/157 [==============================] - 61s 388ms/step - loss: 0.8268 - accuracy: 0.8044 - val_loss: 1.7638 - val_accuracy: 0.5764\n",
      "Epoch 3/10\n",
      "157/157 [==============================] - 68s 432ms/step - loss: 0.6778 - accuracy: 0.8476 - val_loss: 1.6388 - val_accuracy: 0.6528\n",
      "Epoch 4/10\n",
      "157/157 [==============================] - 61s 387ms/step - loss: 0.6084 - accuracy: 0.8722 - val_loss: 1.0668 - val_accuracy: 0.7410\n",
      "Epoch 5/10\n",
      "157/157 [==============================] - 61s 388ms/step - loss: 0.4866 - accuracy: 0.9086 - val_loss: 1.5921 - val_accuracy: 0.6460\n",
      "Epoch 6/10\n",
      "157/157 [==============================] - 61s 387ms/step - loss: 0.4934 - accuracy: 0.9144 - val_loss: 0.9683 - val_accuracy: 0.7806\n",
      "Epoch 7/10\n",
      "157/157 [==============================] - 61s 387ms/step - loss: 0.3873 - accuracy: 0.9456 - val_loss: 1.2726 - val_accuracy: 0.7432\n",
      "Epoch 8/10\n",
      "157/157 [==============================] - 61s 387ms/step - loss: 0.4328 - accuracy: 0.9306 - val_loss: 1.1430 - val_accuracy: 0.7580\n",
      "Epoch 9/10\n",
      "157/157 [==============================] - 61s 387ms/step - loss: 0.4123 - accuracy: 0.9366 - val_loss: 1.4605 - val_accuracy: 0.7106\n",
      "Epoch 10/10\n",
      "157/157 [==============================] - 61s 387ms/step - loss: 0.3658 - accuracy: 0.9576 - val_loss: 1.1502 - val_accuracy: 0.7602\n",
      "CPU times: user 6min 30s, sys: 8.52 s, total: 6min 39s\n",
      "Wall time: 10min 29s\n"
     ]
    }
   ],
   "source": [
    "import timeit\n",
    "\n",
    "numberOfEpochs = 10\n",
    "%time h = TL_model.fit(X_train_moderate, y_train_moderate, epochs=numberOfEpochs, shuffle=True, validation_data=(X_valid_moderate, y_valid_moderate))"
   ]
  },
  {
   "cell_type": "code",
   "execution_count": null,
   "id": "uQfv-QQtHLlV",
   "metadata": {
    "colab": {
     "base_uri": "https://localhost:8080/",
     "height": 320
    },
    "id": "uQfv-QQtHLlV",
    "outputId": "b26ee6d5-8ab7-4101-9b27-f751c0fd1607"
   },
   "outputs": [
    {
     "data": {
      "image/png": "[encoded data removed]",
      "text/plain": [
       "<Figure size 576x360 with 1 Axes>"
      ]
     },
     "metadata": {
      "needs_background": "light",
      "tags": []
     },
     "output_type": "display_data"
    }
   ],
   "source": [
    "pd.DataFrame(h.history).plot(figsize=(8, 5))\n",
    "plt.grid(True)\n",
    "plt.show()"
   ]
  },
  {
   "cell_type": "code",
   "execution_count": null,
   "id": "FYzujf_UWz6s",
   "metadata": {
    "colab": {
     "base_uri": "https://localhost:8080/"
    },
    "id": "FYzujf_UWz6s",
    "outputId": "19f5aafe-f228-490e-f984-532dba05cb94"
   },
   "outputs": [
    {
     "name": "stdout",
     "output_type": "stream",
     "text": [
      "\n",
      "Test accuracy: 0.753000020980835\n"
     ]
    }
   ],
   "source": [
    "test_loss, test_acc = TL_model.evaluate(X_test, y_test, verbose=0)\n",
    "print('\\nTest accuracy:', test_acc)"
   ]
  },
  {
   "cell_type": "markdown",
   "id": "cc1224a3",
   "metadata": {
    "id": "cc1224a3"
   },
   "source": [
    "### Removing the output layer and training just the output layer (also including Resizing layer) "
   ]
  },
  {
   "cell_type": "code",
   "execution_count": null,
   "id": "Aljpn8hlXArU",
   "metadata": {
    "id": "Aljpn8hlXArU"
   },
   "outputs": [],
   "source": [
    "TL_model1 = tf.keras.Sequential([\n",
    "        Resizing(224,224),\n",
    "       hub.KerasLayer(\"https://tfhub.dev/google/tf2-preview/inception_v3/feature_vector/4\" , input_shape=(224, 224, 3), trainable=False),\n",
    "       tf.keras.layers.Dense(10, activation='softmax')\n",
    "])\n",
    "TL_model1.build([None, 224, 224 , 3])\n",
    "TL_model1.compile(loss=tf.keras.losses.SparseCategoricalCrossentropy(from_logits=True), optimizer='Adam', metrics=['accuracy'])"
   ]
  },
  {
   "cell_type": "code",
   "execution_count": null,
   "id": "qGfUDXhcXiLl",
   "metadata": {
    "colab": {
     "base_uri": "https://localhost:8080/"
    },
    "id": "qGfUDXhcXiLl",
    "outputId": "685f90e0-715e-4ffa-9865-6e1f9e8cf7c0"
   },
   "outputs": [
    {
     "name": "stdout",
     "output_type": "stream",
     "text": [
      "Epoch 1/10\n"
     ]
    },
    {
     "name": "stderr",
     "output_type": "stream",
     "text": [
      "/usr/local/lib/python3.7/dist-packages/tensorflow/python/keras/backend.py:4930: UserWarning: \"`sparse_categorical_crossentropy` received `from_logits=True`, but the `output` argument was produced by a sigmoid or softmax activation and thus does not represent logits. Was this intended?\"\n",
      "  '\"`sparse_categorical_crossentropy` received `from_logits=True`, but '\n"
     ]
    },
    {
     "name": "stdout",
     "output_type": "stream",
     "text": [
      "157/157 [==============================] - 57s 326ms/step - loss: 0.7734 - accuracy: 0.7520 - val_loss: 0.5441 - val_accuracy: 0.8156\n",
      "Epoch 2/10\n",
      "157/157 [==============================] - 50s 321ms/step - loss: 0.4230 - accuracy: 0.8590 - val_loss: 0.5009 - val_accuracy: 0.8304\n",
      "Epoch 3/10\n",
      "157/157 [==============================] - 50s 321ms/step - loss: 0.3374 - accuracy: 0.8856 - val_loss: 0.4717 - val_accuracy: 0.8414\n",
      "Epoch 4/10\n",
      "157/157 [==============================] - 50s 321ms/step - loss: 0.2813 - accuracy: 0.9080 - val_loss: 0.4971 - val_accuracy: 0.8306\n",
      "Epoch 5/10\n",
      "157/157 [==============================] - 50s 321ms/step - loss: 0.2373 - accuracy: 0.9216 - val_loss: 0.4853 - val_accuracy: 0.8374\n",
      "Epoch 6/10\n",
      "157/157 [==============================] - 50s 321ms/step - loss: 0.2100 - accuracy: 0.9306 - val_loss: 0.4700 - val_accuracy: 0.8440\n",
      "Epoch 7/10\n",
      "157/157 [==============================] - 50s 320ms/step - loss: 0.1823 - accuracy: 0.9436 - val_loss: 0.5038 - val_accuracy: 0.8340\n",
      "Epoch 8/10\n",
      "157/157 [==============================] - 50s 321ms/step - loss: 0.1593 - accuracy: 0.9524 - val_loss: 0.5285 - val_accuracy: 0.8310\n",
      "Epoch 9/10\n",
      "157/157 [==============================] - 50s 320ms/step - loss: 0.1426 - accuracy: 0.9574 - val_loss: 0.4821 - val_accuracy: 0.8422\n",
      "Epoch 10/10\n",
      "157/157 [==============================] - 50s 320ms/step - loss: 0.1230 - accuracy: 0.9660 - val_loss: 0.5011 - val_accuracy: 0.8382\n",
      "CPU times: user 1min 56s, sys: 10.1 s, total: 2min 6s\n",
      "Wall time: 8min 28s\n"
     ]
    }
   ],
   "source": [
    "import timeit\n",
    "\n",
    "numberOfEpochs = 10\n",
    "%time h = TL_model1.fit(X_train_moderate, y_train_moderate, epochs=numberOfEpochs, shuffle=True, validation_data=(X_valid_moderate, y_valid_moderate))"
   ]
  },
  {
   "cell_type": "code",
   "execution_count": null,
   "id": "Wmp--KD9HMlk",
   "metadata": {
    "colab": {
     "base_uri": "https://localhost:8080/",
     "height": 321
    },
    "id": "Wmp--KD9HMlk",
    "outputId": "c6b6b3fe-876b-4d61-f047-cd7aab55263b"
   },
   "outputs": [
    {
     "data": {
      "image/png": "[encoded data removed]",
      "text/plain": [
       "<Figure size 576x360 with 1 Axes>"
      ]
     },
     "metadata": {
      "needs_background": "light",
      "tags": []
     },
     "output_type": "display_data"
    }
   ],
   "source": [
    "pd.DataFrame(h.history).plot(figsize=(8, 5))\n",
    "plt.grid(True)\n",
    "plt.show()"
   ]
  },
  {
   "cell_type": "code",
   "execution_count": null,
   "id": "JcZVdZmwX5_V",
   "metadata": {
    "colab": {
     "base_uri": "https://localhost:8080/"
    },
    "id": "JcZVdZmwX5_V",
    "outputId": "ed9aacce-6764-4512-cc94-5e6339be2c7c"
   },
   "outputs": [
    {
     "name": "stdout",
     "output_type": "stream",
     "text": [
      "\n",
      "Test accuracy: 0.8353999853134155\n"
     ]
    }
   ],
   "source": [
    "test_loss, test_acc = TL_model1.evaluate(X_test, y_test, verbose=0)\n",
    "print('\\nTest accuracy:', test_acc)"
   ]
  },
  {
   "cell_type": "markdown",
   "id": "ddffd7cc",
   "metadata": {
    "id": "ddffd7cc"
   },
   "source": [
    "### Removing the output layer and training the whole network with the our own output layer and resizing layer"
   ]
  },
  {
   "cell_type": "code",
   "execution_count": null,
   "id": "RwxILcTXXypm",
   "metadata": {
    "id": "RwxILcTXXypm"
   },
   "outputs": [],
   "source": [
    "TL_model2 = tf.keras.Sequential([\n",
    "        Resizing(224,224),\n",
    "       hub.KerasLayer(\"https://tfhub.dev/google/tf2-preview/inception_v3/feature_vector/4\" , input_shape=(224, 224, 3), trainable=True),\n",
    "       tf.keras.layers.Dense(10, activation='softmax')\n",
    "])\n",
    "TL_model2.build([None, 224, 224 , 3])\n",
    "TL_model2.compile(loss=tf.keras.losses.SparseCategoricalCrossentropy(from_logits=True), optimizer='Adam', metrics=['accuracy'])"
   ]
  },
  {
   "cell_type": "code",
   "execution_count": null,
   "id": "evxzS2xWYB6e",
   "metadata": {
    "colab": {
     "base_uri": "https://localhost:8080/"
    },
    "id": "evxzS2xWYB6e",
    "outputId": "78a8879b-96f6-4e22-c699-68e2dbb0d4f2"
   },
   "outputs": [
    {
     "name": "stdout",
     "output_type": "stream",
     "text": [
      "Epoch 1/10\n"
     ]
    },
    {
     "name": "stderr",
     "output_type": "stream",
     "text": [
      "/usr/local/lib/python3.7/dist-packages/tensorflow/python/keras/backend.py:4930: UserWarning: \"`sparse_categorical_crossentropy` received `from_logits=True`, but the `output` argument was produced by a sigmoid or softmax activation and thus does not represent logits. Was this intended?\"\n",
      "  '\"`sparse_categorical_crossentropy` received `from_logits=True`, but '\n"
     ]
    },
    {
     "name": "stdout",
     "output_type": "stream",
     "text": [
      "157/157 [==============================] - 130s 760ms/step - loss: 1.4326 - accuracy: 0.6084 - val_loss: 3.5242 - val_accuracy: 0.2804\n",
      "Epoch 2/10\n",
      "157/157 [==============================] - 118s 753ms/step - loss: 0.9457 - accuracy: 0.7722 - val_loss: 1.5237 - val_accuracy: 0.6224\n",
      "Epoch 3/10\n",
      "157/157 [==============================] - 118s 753ms/step - loss: 0.8363 - accuracy: 0.8100 - val_loss: 2.6054 - val_accuracy: 0.5048\n",
      "Epoch 4/10\n",
      "157/157 [==============================] - 118s 753ms/step - loss: 0.6761 - accuracy: 0.8636 - val_loss: 1.4284 - val_accuracy: 0.6588\n",
      "Epoch 5/10\n",
      "157/157 [==============================] - 134s 853ms/step - loss: 0.6032 - accuracy: 0.8934 - val_loss: 1.5323 - val_accuracy: 0.6548\n",
      "Epoch 6/10\n",
      "157/157 [==============================] - 118s 754ms/step - loss: 0.6140 - accuracy: 0.8888 - val_loss: 1.7573 - val_accuracy: 0.6510\n",
      "Epoch 7/10\n",
      "157/157 [==============================] - 118s 753ms/step - loss: 0.5394 - accuracy: 0.9128 - val_loss: 1.8290 - val_accuracy: 0.6546\n",
      "Epoch 8/10\n",
      "157/157 [==============================] - 118s 753ms/step - loss: 0.4650 - accuracy: 0.9404 - val_loss: 2.0739 - val_accuracy: 0.5824\n",
      "Epoch 9/10\n",
      "157/157 [==============================] - 118s 753ms/step - loss: 0.4624 - accuracy: 0.9444 - val_loss: 1.4880 - val_accuracy: 0.7256\n",
      "Epoch 10/10\n",
      "157/157 [==============================] - 118s 753ms/step - loss: 0.4801 - accuracy: 0.9396 - val_loss: 1.6771 - val_accuracy: 0.6514\n",
      "CPU times: user 12min 31s, sys: 11.7 s, total: 12min 43s\n",
      "Wall time: 20min 32s\n"
     ]
    }
   ],
   "source": [
    "import timeit\n",
    "\n",
    "numberOfEpochs = 10\n",
    "%time h = TL_model2.fit(X_train_moderate, y_train_moderate, epochs=numberOfEpochs, shuffle=True, validation_data=(X_valid_moderate, y_valid_moderate))"
   ]
  },
  {
   "cell_type": "code",
   "execution_count": null,
   "id": "RPMLV-zvHN1V",
   "metadata": {
    "colab": {
     "base_uri": "https://localhost:8080/",
     "height": 320
    },
    "id": "RPMLV-zvHN1V",
    "outputId": "97dd38d8-1c4b-4661-8531-698ad463bac5"
   },
   "outputs": [
    {
     "data": {
      "image/png": "[encoded data removed]",
      "text/plain": [
       "<Figure size 576x360 with 1 Axes>"
      ]
     },
     "metadata": {
      "needs_background": "light",
      "tags": []
     },
     "output_type": "display_data"
    }
   ],
   "source": [
    "pd.DataFrame(h.history).plot(figsize=(8, 5))\n",
    "plt.grid(True)\n",
    "plt.show()"
   ]
  },
  {
   "cell_type": "code",
   "execution_count": null,
   "id": "ypjuyjrvYR50",
   "metadata": {
    "colab": {
     "base_uri": "https://localhost:8080/"
    },
    "id": "ypjuyjrvYR50",
    "outputId": "d2e5092b-f66f-43a8-fe29-4fc7fbae227f"
   },
   "outputs": [
    {
     "name": "stdout",
     "output_type": "stream",
     "text": [
      "\n",
      "Test accuracy: 0.6570000052452087\n"
     ]
    }
   ],
   "source": [
    "test_loss, test_acc = TL_model2.evaluate(X_test, y_test, verbose=0)\n",
    "print('\\nTest accuracy:', test_acc)"
   ]
  },
  {
   "cell_type": "markdown",
   "id": "33c27654",
   "metadata": {
    "id": "33c27654"
   },
   "source": [
    "## LARGE DATASET"
   ]
  },
  {
   "cell_type": "markdown",
   "id": "9f7b6236",
   "metadata": {
    "id": "9f7b6236"
   },
   "source": [
    "### Training from scratch"
   ]
  },
  {
   "cell_type": "code",
   "execution_count": null,
   "id": "7FaJs_KDYhTk",
   "metadata": {
    "id": "7FaJs_KDYhTk"
   },
   "outputs": [],
   "source": [
    "TL_model = tf.keras.Sequential([\n",
    "        Resizing(224,224),\n",
    "       hub.KerasLayer(\"https://tfhub.dev/google/imagenet/inception_v1/classification/5\" , input_shape=(224, 224, 3), trainable=True)\n",
    "\n",
    "])\n",
    "TL_model.build([None, 224, 224 , 3])\n",
    "TL_model.compile(loss=tf.keras.losses.SparseCategoricalCrossentropy(from_logits=True), optimizer='Adam', metrics=['accuracy'])"
   ]
  },
  {
   "cell_type": "code",
   "execution_count": null,
   "id": "HH96f_iRYhTn",
   "metadata": {
    "colab": {
     "base_uri": "https://localhost:8080/"
    },
    "id": "HH96f_iRYhTn",
    "outputId": "993c410c-fec1-4814-a0ba-c3327f02e17b"
   },
   "outputs": [
    {
     "name": "stdout",
     "output_type": "stream",
     "text": [
      "Epoch 1/10\n",
      "938/938 [==============================] - 345s 360ms/step - loss: 0.9372 - accuracy: 0.7692 - val_loss: 1.1417 - val_accuracy: 0.7025\n",
      "Epoch 2/10\n",
      "938/938 [==============================] - 364s 389ms/step - loss: 0.6748 - accuracy: 0.8478 - val_loss: 0.6958 - val_accuracy: 0.8476\n",
      "Epoch 3/10\n",
      "938/938 [==============================] - 335s 357ms/step - loss: 0.6093 - accuracy: 0.8743 - val_loss: 0.6512 - val_accuracy: 0.8582\n",
      "Epoch 4/10\n",
      "938/938 [==============================] - 364s 389ms/step - loss: 0.5756 - accuracy: 0.8917 - val_loss: 0.6502 - val_accuracy: 0.8741\n",
      "Epoch 5/10\n",
      "938/938 [==============================] - 335s 357ms/step - loss: 0.5638 - accuracy: 0.9050 - val_loss: 0.6178 - val_accuracy: 0.8907\n",
      "Epoch 6/10\n",
      "938/938 [==============================] - 335s 357ms/step - loss: 0.5456 - accuracy: 0.9169 - val_loss: 0.5794 - val_accuracy: 0.9076\n",
      "Epoch 7/10\n",
      "938/938 [==============================] - 364s 389ms/step - loss: 0.5385 - accuracy: 0.9236 - val_loss: 0.5767 - val_accuracy: 0.9128\n",
      "Epoch 8/10\n",
      "938/938 [==============================] - 335s 357ms/step - loss: 0.5413 - accuracy: 0.9294 - val_loss: 0.5461 - val_accuracy: 0.9281\n",
      "Epoch 9/10\n",
      "938/938 [==============================] - 364s 389ms/step - loss: 0.5262 - accuracy: 0.9395 - val_loss: 0.6927 - val_accuracy: 0.8924\n",
      "Epoch 10/10\n",
      "938/938 [==============================] - 335s 357ms/step - loss: 0.5256 - accuracy: 0.9398 - val_loss: 0.5813 - val_accuracy: 0.9268\n",
      "CPU times: user 36min 31s, sys: 35.1 s, total: 37min 6s\n",
      "Wall time: 58min 29s\n"
     ]
    }
   ],
   "source": [
    "import timeit\n",
    "\n",
    "numberOfEpochs = 10\n",
    "%time h = TL_model.fit(X_train_large, y_train_large, epochs=numberOfEpochs, shuffle=True, validation_data=(X_valid_large, y_valid_large))"
   ]
  },
  {
   "cell_type": "code",
   "execution_count": null,
   "id": "w6AFWYSXHO69",
   "metadata": {
    "colab": {
     "base_uri": "https://localhost:8080/",
     "height": 320
    },
    "id": "w6AFWYSXHO69",
    "outputId": "356e1a55-8efb-4e9f-b228-e1b36e8ba760"
   },
   "outputs": [
    {
     "data": {
      "image/png": "[encoded data removed]",
      "text/plain": [
       "<Figure size 576x360 with 1 Axes>"
      ]
     },
     "metadata": {
      "needs_background": "light",
      "tags": []
     },
     "output_type": "display_data"
    }
   ],
   "source": [
    "pd.DataFrame(h.history).plot(figsize=(8, 5))\n",
    "plt.grid(True)\n",
    "plt.show()"
   ]
  },
  {
   "cell_type": "code",
   "execution_count": null,
   "id": "zzNcNfk4YhTn",
   "metadata": {
    "colab": {
     "base_uri": "https://localhost:8080/"
    },
    "id": "zzNcNfk4YhTn",
    "outputId": "3f19cfb7-df3e-49b9-a77d-6fb27f8f648b"
   },
   "outputs": [
    {
     "name": "stdout",
     "output_type": "stream",
     "text": [
      "\n",
      "Test accuracy: 0.8486999869346619\n"
     ]
    }
   ],
   "source": [
    "test_loss, test_acc = TL_model.evaluate(X_test, y_test, verbose=0)\n",
    "print('\\nTest accuracy:', test_acc)"
   ]
  },
  {
   "cell_type": "markdown",
   "id": "5250aee2",
   "metadata": {
    "id": "5250aee2"
   },
   "source": [
    "### Removing the output layer and training just the output layer (also including Resizing layer)"
   ]
  },
  {
   "cell_type": "code",
   "execution_count": null,
   "id": "HIyOTT_3YhTo",
   "metadata": {
    "id": "HIyOTT_3YhTo"
   },
   "outputs": [],
   "source": [
    "TL_model1 = tf.keras.Sequential([\n",
    "        Resizing(224,224),\n",
    "       hub.KerasLayer(\"https://tfhub.dev/google/tf2-preview/inception_v3/feature_vector/4\" , input_shape=(224, 224, 3), trainable=False),\n",
    "       tf.keras.layers.Dense(10, activation='softmax')\n",
    "])\n",
    "TL_model1.build([None, 224, 224 , 3])\n",
    "TL_model1.compile(loss=tf.keras.losses.SparseCategoricalCrossentropy(from_logits=True), optimizer='Adam', metrics=['accuracy'])"
   ]
  },
  {
   "cell_type": "code",
   "execution_count": null,
   "id": "peo3JyNWYhTo",
   "metadata": {
    "id": "peo3JyNWYhTo"
   },
   "outputs": [],
   "source": [
    "import timeit\n",
    "\n",
    "numberOfEpochs = 10\n",
    "%time h = TL_model1.fit(X_train_large, y_train_large, epochs=numberOfEpochs, shuffle=True, validation_data=(X_valid_large, y_valid_large))"
   ]
  },
  {
   "cell_type": "code",
   "execution_count": null,
   "id": "fk39ew9FHRA-",
   "metadata": {
    "colab": {
     "base_uri": "https://localhost:8080/",
     "height": 320
    },
    "id": "fk39ew9FHRA-",
    "outputId": "6806e93f-9f62-46c7-ecf2-ce58dbd8d8ac"
   },
   "outputs": [
    {
     "data": {
      "image/png": "[encoded data removed]",
      "text/plain": [
       "<Figure size 576x360 with 1 Axes>"
      ]
     },
     "metadata": {
      "needs_background": "light",
      "tags": []
     },
     "output_type": "display_data"
    }
   ],
   "source": [
    "pd.DataFrame(h.history).plot(figsize=(8, 5))\n",
    "plt.grid(True)\n",
    "plt.show()"
   ]
  },
  {
   "cell_type": "code",
   "execution_count": null,
   "id": "MqLT79-RYhTo",
   "metadata": {
    "id": "MqLT79-RYhTo"
   },
   "outputs": [],
   "source": [
    "test_loss, test_acc = TL_model1.evaluate(X_test, y_test, verbose=0)\n",
    "print('\\nTest accuracy:', test_acc)"
   ]
  },
  {
   "cell_type": "markdown",
   "id": "7b4012a0",
   "metadata": {
    "id": "7b4012a0"
   },
   "source": [
    "### Removing the output layer and training the whole network with the our own output layer and resizing layer"
   ]
  },
  {
   "cell_type": "code",
   "execution_count": null,
   "id": "RdydzsW3YhTo",
   "metadata": {
    "id": "RdydzsW3YhTo"
   },
   "outputs": [],
   "source": [
    "TL_model2 = tf.keras.Sequential([\n",
    "        Resizing(224,224),\n",
    "       hub.KerasLayer(\"https://tfhub.dev/google/tf2-preview/inception_v3/feature_vector/4\" , input_shape=(224, 224, 3), trainable=True),\n",
    "       tf.keras.layers.Dense(10, activation='softmax')\n",
    "])\n",
    "TL_model2.build([None, 224, 224 , 3])\n",
    "TL_model2.compile(loss=tf.keras.losses.SparseCategoricalCrossentropy(from_logits=True), optimizer='Adam', metrics=['accuracy'])"
   ]
  },
  {
   "cell_type": "code",
   "execution_count": null,
   "id": "oDoqlODhYhTp",
   "metadata": {
    "colab": {
     "base_uri": "https://localhost:8080/"
    },
    "id": "oDoqlODhYhTp",
    "outputId": "b96d5109-b9f2-4379-c778-8c5af11ce582"
   },
   "outputs": [
    {
     "name": "stdout",
     "output_type": "stream",
     "text": [
      "Epoch 1/10\n"
     ]
    },
    {
     "name": "stderr",
     "output_type": "stream",
     "text": [
      "/usr/local/lib/python3.7/dist-packages/tensorflow/python/keras/backend.py:4930: UserWarning: \"`sparse_categorical_crossentropy` received `from_logits=True`, but the `output` argument was produced by a sigmoid or softmax activation and thus does not represent logits. Was this intended?\"\n",
      "  '\"`sparse_categorical_crossentropy` received `from_logits=True`, but '\n"
     ]
    },
    {
     "name": "stdout",
     "output_type": "stream",
     "text": [
      "938/938 [==============================] - 670s 703ms/step - loss: 1.0388 - accuracy: 0.7372 - val_loss: 0.9326 - val_accuracy: 0.7829\n",
      "Epoch 2/10\n",
      "938/938 [==============================] - 656s 700ms/step - loss: 0.7676 - accuracy: 0.8365 - val_loss: 1.0044 - val_accuracy: 0.7742\n",
      "Epoch 3/10\n",
      "938/938 [==============================] - 656s 700ms/step - loss: 0.6959 - accuracy: 0.8689 - val_loss: 0.6933 - val_accuracy: 0.8741\n",
      "Epoch 4/10\n",
      "938/938 [==============================] - 698s 745ms/step - loss: 0.6674 - accuracy: 0.8840 - val_loss: 3.3937 - val_accuracy: 0.7905\n",
      "Epoch 5/10\n",
      "938/938 [==============================] - 656s 699ms/step - loss: 0.6536 - accuracy: 0.9005 - val_loss: 0.6844 - val_accuracy: 0.8934\n",
      "Epoch 6/10\n",
      "938/938 [==============================] - 697s 744ms/step - loss: 0.6660 - accuracy: 0.9065 - val_loss: 1.0214 - val_accuracy: 0.8622\n",
      "Epoch 7/10\n",
      "938/938 [==============================] - 656s 699ms/step - loss: 0.6397 - accuracy: 0.9201 - val_loss: 0.6417 - val_accuracy: 0.9219\n",
      "Epoch 8/10\n",
      "518/938 [===============>..............] - ETA: 4:09 - loss: 0.6141 - accuracy: 0.9341"
     ]
    }
   ],
   "source": [
    "import timeit\n",
    "\n",
    "numberOfEpochs = 10\n",
    "%time h = TL_model2.fit(X_train_large, y_train_large, epochs=numberOfEpochs, shuffle=True, validation_data=(X_valid_large, y_valid_large))"
   ]
  },
  {
   "cell_type": "code",
   "execution_count": null,
   "id": "B0XAJA_MHSoN",
   "metadata": {
    "id": "B0XAJA_MHSoN"
   },
   "outputs": [],
   "source": [
    "pd.DataFrame(h.history).plot(figsize=(8, 5))\n",
    "plt.grid(True)\n",
    "plt.show()"
   ]
  },
  {
   "cell_type": "code",
   "execution_count": null,
   "id": "Fcp8hPbuYhTp",
   "metadata": {
    "id": "Fcp8hPbuYhTp"
   },
   "outputs": [],
   "source": [
    "test_loss, test_acc = TL_model2.evaluate(X_test, y_test, verbose=0)\n",
    "print('\\nTest accuracy:', test_acc)"
   ]
  },
  {
   "cell_type": "markdown",
   "id": "lQ0BNUauJA5E",
   "metadata": {
    "id": "lQ0BNUauJA5E"
   },
   "source": [
    "# ANALYSIS AND COMMENTS FOR THE TRANSFER LEARNING EXPERIMENTS"
   ]
  },
  {
   "cell_type": "markdown",
   "id": "FILLsJnwJObk",
   "metadata": {
    "id": "FILLsJnwJObk"
   },
   "source": [
    "**In the regard of accuracy:** For all the datasets (small, moderate and large), the most successfull outcome is achieved while using the method \"Removing the output layer and training just the output layer that we have added (also including Resizing layer)\". The most certain reason for this outcome is that training tends to overfit when we train the transferred layers. The second most succesfull one happened to be the method \"Training from scratch\" that is when we get the whole network from Tensor Hub and train it. I believe the reason why \n",
    "it is better than changing the output layer is we have to think Neural Networks as a whole, each choice of layer adds something little to the whole design and I believe there are some overall rules that we should follow while optimizing a network for a distinct problem, so changing the output layer with just tf.keras.layers.Dense(10, activation='softmax') made things worse\n"
   ]
  },
  {
   "cell_type": "markdown",
   "id": "MVBDDjBxMOmz",
   "metadata": {
    "id": "MVBDDjBxMOmz"
   },
   "source": [
    "**In the regard of efficiency**: It is for sure that the training time is affected by the overall complexity of the layers that we have chosen to train. When we train the whole network instead of training just the output layer, the parameter size is much much more and this basically results with countless hours of training. If better performance was achieveable just by training, that is okay but in our case/experiments, it was not cost-effective at all considering the accuracy levels. Also the overfitting is a problem when we think about the moderate/large datasets. The most efficient method was also freezing the transferred layer and training just the output layer(inc. Resizing) "
   ]
  },
  {
   "cell_type": "markdown",
   "id": "H8Csu2XyOqEr",
   "metadata": {
    "id": "H8Csu2XyOqEr"
   },
   "source": [
    "**In the regard of simplicity:** All of the methods were easy to use and we have to mention that the TensorHub and all the features of it (ex. using an already trained network or features) are really a gamechanger when we consider the availability and the simplicity of the system"
   ]
  }
 ],
 "metadata": {
  "accelerator": "GPU",
  "colab": {
   "collapsed_sections": [],
   "name": "SON.ipynb",
   "provenance": []
  },
  "kernelspec": {
   "display_name": "Python 3",
   "language": "python",
   "name": "python3"
  },
  "language_info": {
   "codemirror_mode": {
    "name": "ipython",
    "version": 3
   },
   "file_extension": ".py",
   "mimetype": "text/x-python",
   "name": "python",
   "nbconvert_exporter": "python",
   "pygments_lexer": "ipython3",
   "version": "3.8.8"
  }
 },
 "nbformat": 4,
 "nbformat_minor": 5
}
