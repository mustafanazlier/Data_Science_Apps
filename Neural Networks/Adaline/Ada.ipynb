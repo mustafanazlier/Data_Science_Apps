{
 "cells": [
  {
   "cell_type": "markdown",
   "metadata": {},
   "source": [
    "## Neural Networks Homework 1 : Mustafa Nazlıer 15050111035\n"
   ]
  },
  {
   "cell_type": "markdown",
   "metadata": {},
   "source": [
    "## Q1) Creating a dataset  "
   ]
  },
  {
   "cell_type": "code",
   "execution_count": null,
   "metadata": {},
   "outputs": [],
   "source": [
    "import matplotlib.pyplot as plt\n",
    "import numpy as np\n",
    "import pandas as pd\n",
    "import random\n",
    "\n",
    "\n",
    "#Önce lineer olarak bir doğru yardımıyla ayırabileceğim noktalar generate edip artından noise ekleyeceğim\n",
    "xA,yA,xB,yB = 1 ,2 ,4 ,3 #[random.uniform(0, 5) for i in range(4)]  #0 ile 5 arasında uniform skalar değerler random ediyorum\n",
    "Line = np.array([xB*yA-xA*yB, yB-yA, xA-xB])    #düzlemi ortaya yakın bir yerden bölecek doğru denklemi \n",
    "        \n",
    "X = []\n",
    "S = []\n",
    "for i in range(95):   #Kaç nokta\n",
    "  x1,x2 = [random.uniform(0, 5) for i in range(2)]\n",
    "  x = np.array([1,x1,x2])\n",
    "  s = int(np.sign(Line.T.dot(x))) #s değeri 1 ise grafiğin altında -1 ise grafiğin üstündeolacak şekilde ayarladım\n",
    "  X.append((x1,x2,s))\n",
    "  S.append(s)\n",
    "\n",
    "##Noise ekleme\n",
    "for i in range(5): \n",
    "  x1,x2 = [random.uniform(0, 5) for i in range(2)]\n",
    "  x = np.array([1,x1,x2])\n",
    "  s = int(-np.sign(Line.T.dot(x))) #ters olacak şekilde 5 nokta ekliyorum \n",
    "  X.append((x1,x2, s))  #Tüm noktaları ve classifierlarını X arrayinde topluyorum grafiğe çizdikten sonra s değerlerine bu arrayde ihtiyacım kalmayacak\n",
    "  S.append(s)        #Tüm classifierları ayrı olarak S te topluyorum       \n",
    "\n",
    "    \n",
    "fig = plt.figure(figsize=(5,5))\n",
    "\n",
    "\n",
    "cols = {1: 'r', -1: 'b'}\n",
    "for x in X:\n",
    "    plt.plot(x[0], x[1], cols[x[2]]+'o')  #Noktalarıma Noise eklenmiş hali\n",
    "    \n"
   ]
  },
  {
   "cell_type": "markdown",
   "metadata": {},
   "source": [
    "## Q2) Adaline Network Sequential Mode"
   ]
  },
  {
   "cell_type": "code",
   "execution_count": null,
   "metadata": {},
   "outputs": [],
   "source": [
    "Xdf = pd.DataFrame(X ,  columns=['x1', 'x2' ,'y'])     # X Arrayimi sadece koordinatlar kalacak şekilde düzenliyorum \n",
    "X_Global = Xdf.iloc[0:100,[0,1]].values  #Tüm sorularda kullanmak üzere bir X değeri oluşturuyorum"
   ]
  },
  {
   "cell_type": "code",
   "execution_count": null,
   "metadata": {},
   "outputs": [],
   "source": [
    "\n",
    "learn_rate = 0.01\n",
    "iterations = 500\n",
    "X=np.array(X_Global)\n",
    "X = np.c_[np.ones((X.shape[0], 1)), X]\n",
    "y=np.array(S)\n",
    "# = (X - np.mean(X, axis=0)) / np.std(X, axis = 0)\n",
    "# random_gen = np.random.RandomState(1)\n",
    "\n",
    "# weights = random_gen.normal(loc = 0.1, scale = 1, size= X.shape[0])\n",
    "weights = np.random.uniform(-5, 5, X.shape[1] )\n",
    "accuracyBefore = np.sum(y == np.where(np.dot(X, weights) >= 0.0, 1, -1)) / len(y)\n",
    "\n",
    "print('Accuracy Before Training is '  , accuracyBefore)\n",
    "\n",
    "costs = []\n",
    "\n",
    "for cycle in range(iterations):\n",
    "    error=0.0\n",
    "    for i in range(X.shape[0]):\n",
    "   \n",
    "        output_pred = np.dot(X[i], weights) \n",
    "        y_pred = np.where(output_pred>=0, 1, -1)      #threshholding\n",
    "        weights += (learn_rate * X[i]*(y[i] - y_pred))   #Sequential\n",
    "        error += ((y[i] - y_pred) ** 2) / 2.0\n",
    "        \n",
    "    costs.append(error)\n",
    "\n",
    "\n",
    "fig = plt.figure(figsize=(10,8))\n",
    "plt.plot(range(1, len(costs) + 1), costs)\n",
    "plt.title(\"Adaline:\")\n",
    "plt.xlabel('Iteration')\n",
    "plt.ylabel('Cost')\n",
    "plt.show()\n",
    "\n",
    "accuracySequential = np.sum(y == np.where(np.dot(X, weights) >= 0.0, 1, -1)) / len(y)\n",
    "print('Accuracy After Training is '  , accuracySequential)"
   ]
  },
  {
   "cell_type": "markdown",
   "metadata": {},
   "source": [
    "## Q3) Adaline Network Batch Mode"
   ]
  },
  {
   "cell_type": "code",
   "execution_count": null,
   "metadata": {},
   "outputs": [],
   "source": [
    "learn_rate = 0.01\n",
    "iterations = 20\n",
    "X=np.array(X_Global)\n",
    "y= np.array(S)\n",
    "   \n",
    "\n",
    "weights = np.random.uniform(-5, 5, X.shape[1] )\n",
    "accuracyBefore = np.sum(y == np.where(np.dot(X, weights) >= 0.0, 1, -1)) / len(y)\n",
    "print('Accuracy Before Training is '  , accuracyBefore)\n",
    "\n",
    "\n",
    "costs = []\n",
    "\n",
    "for cycle in range(iterations):\n",
    "       \n",
    "      \n",
    "        output_pred = np.dot(X, weights)\n",
    "        errors = y - output_pred   \n",
    "        weights += (learn_rate * X.T.dot(errors))/iterations\n",
    "        cost = (errors**2).sum() / 2.0\n",
    "        costs.append(cost)\n",
    "   \n",
    "\n",
    "\n",
    "\n",
    "plt.plot(range(1, len(costs) + 1), costs)\n",
    "plt.title(\"Adaline\")\n",
    "plt.xlabel('Iterations')\n",
    "plt.ylabel('Cost')\n",
    "plt.show()\n",
    "\n",
    "accuracyBatch = np.sum(y == np.where(np.dot(X, weights) >= 0.0, 1, -1)) / len(y)\n",
    "print('Accuracy After Training is '  , accuracyBatch)\n"
   ]
  },
  {
   "cell_type": "markdown",
   "metadata": {},
   "source": [
    "## Q4) Adaline Network Mini-Batch Mode\n"
   ]
  },
  {
   "cell_type": "code",
   "execution_count": null,
   "metadata": {
    "scrolled": false
   },
   "outputs": [],
   "source": [
    "Batch_Size=10         #Mini-Batch sizeım\n",
    "\n",
    "BatchDown=0           #Mini-Batch subseti için array indexi verebilmek için değerlerim\n",
    "BatchUp=Batch_Size\n",
    "\n",
    "learn_rate = 0.01\n",
    "iterations = 100\n",
    "                     \n",
    "X=np.array(X_Global)\n",
    "y= np.array(S)\n",
    "   \n",
    "\n",
    "\n",
    "weights = np.random.uniform(-5, 5, X.shape[1] ) #Weight randomize ediyorum\n",
    "\n",
    "accuracyBefore = np.sum(y == np.where(np.dot(X, weights) >= 0.0, 1, -1)) / len(y)\n",
    "print('Accuracy Before Training is '  , accuracyBefore)                           #Trainingden önceki accuracy\n",
    "\n",
    "\n",
    "costs = []\n",
    "\n",
    "\n",
    "for i in range(iterations):\n",
    "    \n",
    "    XMini = X[i * Batch_Size:(i + 1)*Batch_Size]     #X ve y için index güncellemesi 0-10, 10-20, 20-30... şeklinde\n",
    "    yMini = y[i * Batch_Size:(i + 1)*Batch_Size]\n",
    "\n",
    "    for i1 in range(XMini.shape[0]):\n",
    "\n",
    "        output_pred = np.dot(XMini[i1], weights)\n",
    "        errors = yMini[i1] - output_pred   \n",
    "        weights += (learn_rate * XMini[i1].T.dot(errors))/Batch_Size\n",
    "        cost = (errors**2).sum() / 2.0\n",
    "        costs.append(cost)      \n",
    "          \n",
    "\n",
    "plt.plot(range(1, len(costs) + 1), costs)\n",
    "plt.title(\"Adaline\")\n",
    "plt.xlabel('Iterations')\n",
    "plt.ylabel('Cost')\n",
    "plt.show()\n",
    "\n",
    "accuracyMiniBatch = np.sum(y == np.where(np.dot(X, weights) >= 0.0, 1, -1)) / len(y)\n",
    "print('Accuracy After Training is '  , accuracyMiniBatch)"
   ]
  },
  {
   "cell_type": "markdown",
   "metadata": {},
   "source": [
    "### Q4 için mantığı kavradığıma inanıyorum fakat atladığım bir şey var çözemediğim, bu yüzden output ve accuracy olarak sonucumun doğruluğundan emin değilim"
   ]
  },
  {
   "cell_type": "markdown",
   "metadata": {},
   "source": [
    "## Q5 Lineer Regression and Comparing the accuracy between the Adaline"
   ]
  },
  {
   "cell_type": "code",
   "execution_count": null,
   "metadata": {},
   "outputs": [],
   "source": [
    "from sklearn.linear_model import LinearRegression\n",
    "\n",
    "X=np.array(X_Global)\n",
    "y= np.array(S)\n",
    "\n",
    "regressor = LinearRegression()\n",
    "regressor.fit(X, y)\n",
    "predictions = regressor.predict(X)\n",
    "accuracyLinear = np.sum(y == np.where(predictions >= 0.0, 1, -1)) / len(y)\n",
    "\n",
    "print(\"Lineer classfication accuracy\", accuracyLinear)"
   ]
  },
  {
   "cell_type": "code",
   "execution_count": null,
   "metadata": {},
   "outputs": [],
   "source": [
    "accuracyLinear\n",
    "accuracySequential\n",
    "accuracyMiniBatch\n",
    "accuracyBatch \n",
    "print(\"Lineer classfication accuracy\", accuracyLinear)\n",
    "print(\"Sequential accuracy\", accuracySequential)\n",
    "print(\"Batch  accuracy\", accuracyBatch )\n",
    "print(\"MiniBatch accuracy\", accuracyMiniBatch) #Mini batch için emin değilim sonuçtan"
   ]
  }
 ],
 "metadata": {
  "kernelspec": {
   "display_name": "Python 3",
   "language": "python",
   "name": "python3"
  },
  "language_info": {
   "codemirror_mode": {
    "name": "ipython",
    "version": 3
   },
   "file_extension": ".py",
   "mimetype": "text/x-python",
   "name": "python",
   "nbconvert_exporter": "python",
   "pygments_lexer": "ipython3",
   "version": "3.8.5"
  }
 },
 "nbformat": 4,
 "nbformat_minor": 4
}
